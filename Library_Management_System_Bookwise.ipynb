{
  "nbformat": 4,
  "nbformat_minor": 0,
  "metadata": {
    "colab": {
      "provenance": []
    },
    "kernelspec": {
      "name": "python3",
      "display_name": "Python 3"
    },
    "language_info": {
      "name": "python"
    }
  },
  "cells": [
    {
      "cell_type": "code",
      "execution_count": 1,
      "metadata": {
        "id": "js2XN4G2Z_-Z"
      },
      "outputs": [],
      "source": [
        "from datetime import datetime, timedelta\n",
        "import getpass"
      ]
    },
    {
      "cell_type": "code",
      "source": [
        "class Librarian:\n",
        "    def __init__(self, username, password):\n",
        "        self.username = username\n",
        "        self.password = password\n",
        "        self.books = {}\n",
        "\n",
        "    def add_book(self, book_name):\n",
        "        if book_name in self.books:\n",
        "            self.books[book_name] += 1\n",
        "        else:\n",
        "            self.books[book_name] = 1\n",
        "\n",
        "    def delete_book(self, book_name):\n",
        "        if book_name in self.books:\n",
        "            del self.books[book_name]\n",
        "        else:\n",
        "            print(\"Book not found\")"
      ],
      "metadata": {
        "id": "jKw-Lo8uaxPV"
      },
      "execution_count": 2,
      "outputs": []
    },
    {
      "cell_type": "code",
      "source": [
        "class Student:\n",
        "    def __init__(self, username, password, department):\n",
        "        self.username = username\n",
        "        self.password = password\n",
        "        self.department = department\n",
        "        self.borrowed_books = {}\n",
        "        self.fine = 0\n",
        "\n",
        "    def lend_book(self, book_name, librarian):\n",
        "        if book_name in librarian.books and librarian.books[book_name] > 0:\n",
        "            librarian.books[book_name] -= 1\n",
        "            lend_date = input(\"Enter the date of book lent (YYYY-MM-DD): \")\n",
        "            due_date = datetime.strptime(lend_date, \"%Y-%m-%d\") + timedelta(days=7)  # Due date after 7 days\n",
        "            self.borrowed_books[book_name] = {'due_date': due_date}\n",
        "            print(\"Book lent successfully\")\n",
        "        else:\n",
        "            print(\"Book not available\")\n",
        "\n",
        "    def return_book(self, book_name, librarian):\n",
        "        if book_name in self.borrowed_books:\n",
        "            return_date = input(\"Enter the date of book returned (YYYY-MM-DD): \")\n",
        "            due_date = self.borrowed_books[book_name]['due_date']\n",
        "            return_date = datetime.strptime(return_date, \"%Y-%m-%d\")\n",
        "            if return_date <= due_date:\n",
        "                print(\"Book returned within the due date. No fine charged.\")\n",
        "            else:\n",
        "                days_overdue = (return_date - due_date).days\n",
        "                self.fine += days_overdue  # 1 rupee fine per day overdue\n",
        "                print(\"Fine charged:\", days_overdue, \"rupees\")\n",
        "            del self.borrowed_books[book_name]\n",
        "            librarian.add_book(book_name)\n",
        "            print(\"Book returned successfully\")\n",
        "        else:\n",
        "            print(\"You have not borrowed this book\")\n",
        "\n",
        "    def calculate_fine(self):\n",
        "        return self.fine"
      ],
      "metadata": {
        "id": "P4XdqvkMayyL"
      },
      "execution_count": 3,
      "outputs": []
    },
    {
      "cell_type": "code",
      "source": [
        "librarian = Librarian(\"librarian\", \"password\")\n",
        "students = []\n",
        "\n",
        "while True:\n",
        "    print(\"\\nMain Interface:\")\n",
        "    print(\"1. Register as librarian\")\n",
        "    print(\"2. Register as student\")\n",
        "    print(\"3. Login as librarian\")\n",
        "    print(\"4. Login as student\")\n",
        "    print(\"5. Exit\")\n",
        "\n",
        "    choice = int(input(\"Enter your choice: \"))\n",
        "\n",
        "    if choice == 1:\n",
        "        username = input(\"Enter username: \")\n",
        "        password = getpass.getpass(\"Enter password: \")\n",
        "        librarian = Librarian(username, password)\n",
        "        print(\"Librarian registered successfully\")\n",
        "\n",
        "    elif choice == 2:\n",
        "        username = input(\"Enter username: \")\n",
        "        password = getpass.getpass(\"Enter password: \")\n",
        "        department = input(\"Enter department: \")\n",
        "        student = Student(username, password, department)\n",
        "        students.append(student)\n",
        "        print(\"Student registered successfully\")\n",
        "\n",
        "    elif choice == 3:\n",
        "        username = input(\"Enter username: \")\n",
        "        password = getpass.getpass(\"Enter password: \")\n",
        "        if username == librarian.username and password == librarian.password:\n",
        "            while True:\n",
        "                print(\"\\nLibrarian Interface:\")\n",
        "                print(\"1. Add book\")\n",
        "                print(\"2. Delete book\")\n",
        "                print(\"3. Logout\")\n",
        "                librarian_choice = int(input(\"Enter your choice: \"))\n",
        "                if librarian_choice == 1:\n",
        "                    book_name = input(\"Enter book name: \")\n",
        "                    librarian.add_book(book_name)\n",
        "                    print(\"Book added successfully\")\n",
        "                elif librarian_choice == 2:\n",
        "                    book_name = input(\"Enter book name: \")\n",
        "                    librarian.delete_book(book_name)\n",
        "                elif librarian_choice == 3:\n",
        "                    break\n",
        "                else:\n",
        "                    print(\"Invalid choice\")\n",
        "\n",
        "    elif choice == 4:\n",
        "        username = input(\"Enter username: \")\n",
        "        password = getpass.getpass(\"Enter password: \")\n",
        "        for student in students:\n",
        "            if username == student.username and password == student.password:\n",
        "                while True:\n",
        "                    print(\"\\nStudent Interface:\")\n",
        "                    print(\"1. Lend book\")\n",
        "                    print(\"2. Return book\")\n",
        "                    print(\"3. Calculate fine\")\n",
        "                    print(\"4. Logout\")\n",
        "                    student_choice = int(input(\"Enter your choice: \"))\n",
        "                    if student_choice == 1:\n",
        "                        book_name = input(\"Enter book name: \")\n",
        "                        student.lend_book(book_name, librarian)\n",
        "                    elif student_choice == 2:\n",
        "                        book_name = input(\"Enter book name: \")\n",
        "                        student.return_book(book_name, librarian)\n",
        "                    elif student_choice == 3:\n",
        "                        print(\"Your fine:\", student.calculate_fine(), \"rupees\")\n",
        "                    elif student_choice == 4:\n",
        "                        break\n",
        "                    else:\n",
        "                        print(\"Invalid choice\")\n",
        "                break\n",
        "        else:\n",
        "            print(\"Invalid username or password\")\n",
        "\n",
        "    elif choice == 5:\n",
        "        break\n",
        "\n",
        "    else:\n",
        "        print(\"Invalid choice\")\n"
      ],
      "metadata": {
        "colab": {
          "base_uri": "https://localhost:8080/"
        },
        "id": "Xw_0kWgva6k-",
        "outputId": "6a33f3ca-d16b-4fc9-dbe6-a152836ef480"
      },
      "execution_count": null,
      "outputs": [
        {
          "output_type": "stream",
          "name": "stdout",
          "text": [
            "\n",
            "Main Interface:\n",
            "1. Register as librarian\n",
            "2. Register as student\n",
            "3. Login as librarian\n",
            "4. Login as student\n",
            "5. Exit\n"
          ]
        }
      ]
    },
    {
      "cell_type": "code",
      "source": [],
      "metadata": {
        "id": "q_JJhplCa7Gv"
      },
      "execution_count": null,
      "outputs": []
    }
  ]
}